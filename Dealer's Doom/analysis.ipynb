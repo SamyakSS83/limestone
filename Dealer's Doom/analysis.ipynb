{
 "cells": [
  {
   "cell_type": "code",
   "execution_count": null,
   "id": "a107f167-f73a-4842-ba9b-7189e13a3a95",
   "metadata": {},
   "outputs": [],
   "source": [
    "import numpy as np\n",
    "import copy\n",
    "import matplotlib.pyplot as plt\n",
    "import torch.nn as nn\n",
    "import torch\n",
    "import torch.optim as optim\n",
    "import sklearn\n",
    "from sklearn import metrics as metrics\n",
    "import pandas as pd\n",
    "import calc_probability"
   ]
  },
  {
   "cell_type": "code",
   "execution_count": null,
   "id": "764b31ce-8a2e-4200-8f27-e840db86dbb7",
   "metadata": {},
   "outputs": [],
   "source": [
    "table_index=4"
   ]
  },
  {
   "cell_type": "code",
   "execution_count": null,
   "id": "88e51570-d84a-4cfa-ac0a-c1701740b0b3",
   "metadata": {},
   "outputs": [],
   "source": [
    "dealer_data = calc_probability.data_loader(\"train.csv\", table_index, \"dealer\")\n",
    "dealer_cards=dealer_data[:,1]"
   ]
  },
  {
   "cell_type": "code",
   "execution_count": null,
   "id": "ac81ff70-9b61-48f2-9a8e-1121bf299fc4",
   "metadata": {},
   "outputs": [],
   "source": [
    "calc_probability.bust_probability(dealer_cards)"
   ]
  }
 ],
 "metadata": {
  "kernelspec": {
   "display_name": "Python 3 (ipykernel)",
   "language": "python",
   "name": "python3"
  },
  "language_info": {
   "codemirror_mode": {
    "name": "ipython",
    "version": 3
   },
   "file_extension": ".py",
   "mimetype": "text/x-python",
   "name": "python",
   "nbconvert_exporter": "python",
   "pygments_lexer": "ipython3",
   "version": "3.9.12"
  }
 },
 "nbformat": 4,
 "nbformat_minor": 5
}
